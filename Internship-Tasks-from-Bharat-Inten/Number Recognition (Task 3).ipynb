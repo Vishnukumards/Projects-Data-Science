{
 "cells": [
  {
   "cell_type": "markdown",
   "id": "3de67a7e",
   "metadata": {},
   "source": [
    "# Number Recognition "
   ]
  },
  {
   "cell_type": "markdown",
   "id": "7c434727",
   "metadata": {},
   "source": [
    "## As per Task 3 (Bharat Intern)\n",
    "## I took MINTS dataset to solve the Handwritten digit recognition System and predicts detects the scanned images of handwritten digits."
   ]
  },
  {
   "cell_type": "code",
   "execution_count": 2,
   "id": "27076602",
   "metadata": {},
   "outputs": [],
   "source": [
    "# Import the libraries"
   ]
  },
  {
   "cell_type": "code",
   "execution_count": 3,
   "id": "86df2615",
   "metadata": {},
   "outputs": [],
   "source": [
    "import tensorflow as tf\n",
    "from tensorflow.keras.datasets import mnist\n",
    "from tensorflow.keras.models import Sequential\n",
    "from tensorflow.keras.layers import Flatten, Dense\n",
    "from tensorflow.keras.utils import to_categorical"
   ]
  },
  {
   "cell_type": "code",
   "execution_count": 4,
   "id": "f7f32134",
   "metadata": {},
   "outputs": [],
   "source": [
    "# Load the MNIST dataset\n",
    "(train_images, train_labels), (test_images, test_labels) = mnist.load_data()\n"
   ]
  },
  {
   "cell_type": "code",
   "execution_count": 5,
   "id": "e56c5a9e",
   "metadata": {},
   "outputs": [],
   "source": [
    "# Normalize pixel values to be between 0 and 1\n",
    "\n",
    "train_images = train_images.astype('float32') / 255\n",
    "test_images = test_images.astype('float32') / 255"
   ]
  },
  {
   "cell_type": "code",
   "execution_count": 7,
   "id": "525d5cee",
   "metadata": {},
   "outputs": [],
   "source": [
    "# Handling Data\n",
    "# One-hot encode the labels\n",
    "\n",
    "train_labels = to_categorical(train_labels)\n",
    "test_labels = to_categorical(test_labels)"
   ]
  },
  {
   "cell_type": "code",
   "execution_count": 8,
   "id": "51ca9202",
   "metadata": {},
   "outputs": [],
   "source": [
    "# Define the neural network model\n",
    "model = Sequential([\n",
    "    Flatten(input_shape=(28, 28)),  # Flatten the 28x28 input images\n",
    "    Dense(128, activation='relu'),  # Fully connected layer with ReLU activation\n",
    "    Dense(10, activation='softmax')  # Output layer with 10 units (one for each digit) and softmax activation\n",
    "])"
   ]
  },
  {
   "cell_type": "code",
   "execution_count": 9,
   "id": "260212d8",
   "metadata": {},
   "outputs": [],
   "source": [
    "# Compile the model\n",
    "model.compile(optimizer='adam',\n",
    "              loss='categorical_crossentropy',\n",
    "              metrics=['accuracy'])"
   ]
  },
  {
   "cell_type": "code",
   "execution_count": 10,
   "id": "5d5cd5fa",
   "metadata": {},
   "outputs": [
    {
     "name": "stdout",
     "output_type": "stream",
     "text": [
      "Epoch 1/5\n",
      "750/750 [==============================] - 7s 8ms/step - loss: 0.3252 - accuracy: 0.9104 - val_loss: 0.1751 - val_accuracy: 0.9508\n",
      "Epoch 2/5\n",
      "750/750 [==============================] - 5s 7ms/step - loss: 0.1479 - accuracy: 0.9575 - val_loss: 0.1386 - val_accuracy: 0.9607\n",
      "Epoch 3/5\n",
      "750/750 [==============================] - 5s 7ms/step - loss: 0.1044 - accuracy: 0.9696 - val_loss: 0.1122 - val_accuracy: 0.9662\n",
      "Epoch 4/5\n",
      "750/750 [==============================] - 5s 7ms/step - loss: 0.0796 - accuracy: 0.9766 - val_loss: 0.0960 - val_accuracy: 0.9718\n",
      "Epoch 5/5\n",
      "750/750 [==============================] - 5s 7ms/step - loss: 0.0629 - accuracy: 0.9815 - val_loss: 0.0920 - val_accuracy: 0.9722\n"
     ]
    },
    {
     "data": {
      "text/plain": [
       "<keras.src.callbacks.History at 0x1da53337d10>"
      ]
     },
     "execution_count": 10,
     "metadata": {},
     "output_type": "execute_result"
    }
   ],
   "source": [
    "# Train the model\n",
    "model.fit(train_images, train_labels, epochs=5, batch_size=64, validation_split=0.2)"
   ]
  },
  {
   "cell_type": "code",
   "execution_count": 11,
   "id": "5caa894e",
   "metadata": {},
   "outputs": [
    {
     "name": "stdout",
     "output_type": "stream",
     "text": [
      "313/313 [==============================] - 1s 4ms/step - loss: 0.0815 - accuracy: 0.9736\n"
     ]
    }
   ],
   "source": [
    "# Evaluate the model on the test dataset\n",
    "test_loss, test_accuracy = model.evaluate(test_images, test_labels)"
   ]
  },
  {
   "cell_type": "markdown",
   "id": "54881fe3",
   "metadata": {},
   "source": [
    "## Results of the Model Accuracy "
   ]
  },
  {
   "cell_type": "code",
   "execution_count": 12,
   "id": "fa2327d0",
   "metadata": {},
   "outputs": [
    {
     "name": "stdout",
     "output_type": "stream",
     "text": [
      "Test accuracy: 97.36%\n"
     ]
    }
   ],
   "source": [
    "print(f'Test accuracy: {test_accuracy * 100:.2f}%')"
   ]
  },
  {
   "cell_type": "code",
   "execution_count": null,
   "id": "3d7fb45b",
   "metadata": {},
   "outputs": [],
   "source": []
  }
 ],
 "metadata": {
  "kernelspec": {
   "display_name": "Python 3 (ipykernel)",
   "language": "python",
   "name": "python3"
  },
  "language_info": {
   "codemirror_mode": {
    "name": "ipython",
    "version": 3
   },
   "file_extension": ".py",
   "mimetype": "text/x-python",
   "name": "python",
   "nbconvert_exporter": "python",
   "pygments_lexer": "ipython3",
   "version": "3.11.3"
  }
 },
 "nbformat": 4,
 "nbformat_minor": 5
}
